{
  "nbformat": 4,
  "nbformat_minor": 0,
  "metadata": {
    "colab": {
      "provenance": []
    },
    "kernelspec": {
      "name": "python3",
      "display_name": "Python 3"
    },
    "language_info": {
      "name": "python"
    }
  },
  "cells": [
    {
      "cell_type": "markdown",
      "source": [
        "# **Proxenix Session 2**"
      ],
      "metadata": {
        "id": "gbuDnLx_UYPV"
      }
    },
    {
      "cell_type": "code",
      "execution_count": 1,
      "metadata": {
        "id": "6vYtOagGUTEf"
      },
      "outputs": [],
      "source": [
        "import numpy as np"
      ]
    },
    {
      "cell_type": "code",
      "source": [
        "import pandas as pd\n",
        "from matplotlib import pyplot as plt\n"
      ],
      "metadata": {
        "id": "NYs8oqLrUgZO"
      },
      "execution_count": 3,
      "outputs": []
    },
    {
      "cell_type": "code",
      "source": [
        "data= pd.read_csv('/content/train.csv.zip')"
      ],
      "metadata": {
        "id": "oiKh-ODuUpbq"
      },
      "execution_count": 6,
      "outputs": []
    },
    {
      "cell_type": "code",
      "source": [
        "data= np.array(data)\n",
        "#m- total no. of images , n- total no. of columns(how many px)\n",
        "#m= total no. of images , n= 784px + 1(label)=785\n",
        "#this is divided into testing/dev and train\n",
        "\n",
        "m,n=data.shape\n",
        "np.random.shuffle(data)"
      ],
      "metadata": {
        "id": "Ja4JPy3CU0ws"
      },
      "execution_count": 9,
      "outputs": []
    },
    {
      "cell_type": "code",
      "source": [
        "data_dev=data[0:1000].T\n",
        "Y_dev=data_dev[0]\n",
        "X_dev=data_dev[1:n]\n",
        "X_dev=X_dev/255"
      ],
      "metadata": {
        "id": "XvjczDytVx62"
      },
      "execution_count": 11,
      "outputs": []
    },
    {
      "cell_type": "code",
      "source": [
        "data_train=data[1000:m].T\n",
        "Y_train=data_train[0]\n",
        "X_train=data_train[1:n]\n",
        "X_train=X_train/255\n",
        "_,m_train=X_train.shape"
      ],
      "metadata": {
        "id": "hna-ZE7FXm3V"
      },
      "execution_count": 13,
      "outputs": []
    },
    {
      "cell_type": "code",
      "source": [
        "Y_train"
      ],
      "metadata": {
        "colab": {
          "base_uri": "https://localhost:8080/"
        },
        "id": "KkSiGYbsYBS4",
        "outputId": "ab0868a1-9448-470c-9599-53a3c3202254"
      },
      "execution_count": 14,
      "outputs": [
        {
          "output_type": "execute_result",
          "data": {
            "text/plain": [
              "array([1, 0, 3, ..., 1, 5, 4])"
            ]
          },
          "metadata": {},
          "execution_count": 14
        }
      ]
    },
    {
      "cell_type": "code",
      "source": [
        "def init_params():\n",
        "  #it will create a matrix\n",
        "  W1=np.random.rand(10,784)-0.5\n",
        "  b1=np.random.rand(10,1)-0.5\n",
        "  W2=np.random.rand(10,10)-0.5\n",
        "  b2=np.random.rand(10,1)-0.5\n",
        "  return W1,b1,W2,b2\n",
        "def ReLU(Z):\n",
        "  return np.maximum(Z,0)\n",
        "def softmax(Z):\n",
        "  A=np.exp(Z)/sum(np.exp(Z))\n",
        "  return A\n",
        "def forward_prop(W1,b1,W2,b2,X):\n",
        "  Z1=W1.dot(X)+b1\n",
        "  A1=ReLU(Z1)\n",
        "  Z2=W2.dot(A1)+b2\n",
        "  A2=softmax(Z2)\n",
        "  return Z1,A1,Z2,A2\n",
        "def ReLU_deriv(Z):\n",
        "  return Z>0\n",
        "def one_hot(Y):\n",
        "  one_hot_Y=np.zeros((Y.size,Y.max()+1))\n",
        "  #first i will crate a matrix of zeros\n",
        "  one_hot_Y[np.arange(Y.size),Y]=1\n",
        "  one_hot_Y=one_hot_Y.T\n",
        "  return one_hot_Y\n",
        "def backward_prop(Z1,A1,Z2,A2,W1,W2,X,Y):\n",
        "  one_hot_Y=one_hot(Y)\n",
        "  dZ2=A2-one_hot_Y\n",
        "  dW2=1/m*dZ2.dot(A1.T)\n",
        "  db2=1/m*np.sum(dZ2)\n",
        "  dZ1=W2.T.dot(dZ2)*ReLU_deriv(Z1)\n",
        "  dW1=1/m*dZ1.dot(X.T)\n",
        "  db1=1/m*np.sum(dZ1)\n",
        "  return dW1,db1,dW2,db2\n",
        "def update_params(W1,b1,W2,b2,dW1,db1,dW2,db2,alpha):\n",
        "  W1=W1-alpha*dW1\n",
        "  b1=b1-alpha*db1\n",
        "  W2=W2-alpha*dW2\n",
        "  b2=b2-alpha*db2\n",
        "  return W1,b1,W2,b2\n",
        "\n",
        "\n",
        ""
      ],
      "metadata": {
        "id": "cKvobtZ7YDuh"
      },
      "execution_count": 31,
      "outputs": []
    },
    {
      "cell_type": "code",
      "source": [
        "def get_predictions(A2):\n",
        "  return np.argmax(A2,0)\n",
        "def get_accuracy(predictions, Y):\n",
        "  print(predictions, Y)\n",
        "  return np.sum(predictions == Y) / Y.size"
      ],
      "metadata": {
        "id": "jyX--_UCYPqb"
      },
      "execution_count": 35,
      "outputs": []
    },
    {
      "cell_type": "code",
      "source": [
        "def gradient_descent(X,Y,alpha,iterations):\n",
        "  W1,b1,W2,b2=init_params()\n",
        "  for i in range(iterations):\n",
        "    Z1,A1,Z2,A2=forward_prop(W1,b1,W2,b2,X)\n",
        "    dW1,db1,dW2,db2=backward_prop(Z1,A1,Z2,A2,W1,W2,X,Y)\n",
        "    W1,b1,W2,b2=update_params(W1,b1,W2,b2,dW1,db1,dW2,db2,alpha)\n",
        "    if i%10==0:\n",
        "      print(\"Iteration: \",i)\n",
        "      predictions=get_predictions(A2)\n",
        "      print(get_accuracy(predictions,Y))\n",
        "  return W1,b1,W2,b2"
      ],
      "metadata": {
        "id": "GxjUCJLtdAa-"
      },
      "execution_count": 36,
      "outputs": []
    },
    {
      "cell_type": "code",
      "source": [
        "W1,b1,W2,b2 = gradient_descent(X_train,Y_train,0.10,500)"
      ],
      "metadata": {
        "colab": {
          "base_uri": "https://localhost:8080/"
        },
        "id": "apbQPNg5drUF",
        "outputId": "f6d76ee8-5ba5-4131-fd10-124125bbadae"
      },
      "execution_count": 37,
      "outputs": [
        {
          "output_type": "stream",
          "name": "stdout",
          "text": [
            "Iteration:  0\n",
            "[6 6 6 ... 6 6 6] [1 0 3 ... 1 5 4]\n",
            "0.11139024390243903\n",
            "Iteration:  10\n",
            "[6 0 6 ... 6 6 6] [1 0 3 ... 1 5 4]\n",
            "0.20341463414634145\n",
            "Iteration:  20\n",
            "[6 0 6 ... 6 6 6] [1 0 3 ... 1 5 4]\n",
            "0.2873170731707317\n",
            "Iteration:  30\n",
            "[6 0 6 ... 1 6 6] [1 0 3 ... 1 5 4]\n",
            "0.35324390243902437\n",
            "Iteration:  40\n",
            "[6 0 6 ... 1 0 9] [1 0 3 ... 1 5 4]\n",
            "0.40187804878048783\n",
            "Iteration:  50\n",
            "[6 0 6 ... 1 0 9] [1 0 3 ... 1 5 4]\n",
            "0.44521951219512196\n",
            "Iteration:  60\n",
            "[6 0 6 ... 1 0 4] [1 0 3 ... 1 5 4]\n",
            "0.48741463414634145\n",
            "Iteration:  70\n",
            "[6 0 3 ... 1 0 4] [1 0 3 ... 1 5 4]\n",
            "0.5262926829268293\n",
            "Iteration:  80\n",
            "[6 0 3 ... 1 0 4] [1 0 3 ... 1 5 4]\n",
            "0.5559512195121952\n",
            "Iteration:  90\n",
            "[1 0 6 ... 1 5 4] [1 0 3 ... 1 5 4]\n",
            "0.5802926829268292\n",
            "Iteration:  100\n",
            "[1 0 6 ... 1 5 4] [1 0 3 ... 1 5 4]\n",
            "0.6029024390243902\n",
            "Iteration:  110\n",
            "[1 0 6 ... 1 5 4] [1 0 3 ... 1 5 4]\n",
            "0.6231951219512195\n",
            "Iteration:  120\n",
            "[1 0 5 ... 1 5 4] [1 0 3 ... 1 5 4]\n",
            "0.6422682926829268\n",
            "Iteration:  130\n",
            "[1 0 5 ... 1 5 4] [1 0 3 ... 1 5 4]\n",
            "0.6594146341463415\n",
            "Iteration:  140\n",
            "[1 0 5 ... 1 5 4] [1 0 3 ... 1 5 4]\n",
            "0.6754634146341464\n",
            "Iteration:  150\n",
            "[1 0 5 ... 1 5 4] [1 0 3 ... 1 5 4]\n",
            "0.6905365853658536\n",
            "Iteration:  160\n",
            "[1 0 5 ... 1 5 4] [1 0 3 ... 1 5 4]\n",
            "0.7036585365853658\n",
            "Iteration:  170\n",
            "[1 0 5 ... 1 5 4] [1 0 3 ... 1 5 4]\n",
            "0.7166585365853658\n",
            "Iteration:  180\n",
            "[1 0 5 ... 1 5 4] [1 0 3 ... 1 5 4]\n",
            "0.7291219512195122\n",
            "Iteration:  190\n",
            "[1 0 5 ... 1 5 4] [1 0 3 ... 1 5 4]\n",
            "0.7396341463414634\n",
            "Iteration:  200\n",
            "[1 0 5 ... 1 5 4] [1 0 3 ... 1 5 4]\n",
            "0.7494878048780488\n",
            "Iteration:  210\n",
            "[1 0 5 ... 1 5 4] [1 0 3 ... 1 5 4]\n",
            "0.7574390243902439\n",
            "Iteration:  220\n",
            "[1 0 5 ... 1 5 4] [1 0 3 ... 1 5 4]\n",
            "0.7650487804878049\n",
            "Iteration:  230\n",
            "[1 0 5 ... 1 5 4] [1 0 3 ... 1 5 4]\n",
            "0.7714878048780488\n",
            "Iteration:  240\n",
            "[1 0 5 ... 1 5 4] [1 0 3 ... 1 5 4]\n",
            "0.7779024390243903\n",
            "Iteration:  250\n",
            "[1 0 5 ... 1 5 4] [1 0 3 ... 1 5 4]\n",
            "0.7824146341463415\n",
            "Iteration:  260\n",
            "[1 0 5 ... 1 5 4] [1 0 3 ... 1 5 4]\n",
            "0.7880243902439025\n",
            "Iteration:  270\n",
            "[1 0 5 ... 1 5 4] [1 0 3 ... 1 5 4]\n",
            "0.7934146341463415\n",
            "Iteration:  280\n",
            "[1 0 5 ... 1 5 4] [1 0 3 ... 1 5 4]\n",
            "0.7976341463414635\n",
            "Iteration:  290\n",
            "[1 0 5 ... 1 5 4] [1 0 3 ... 1 5 4]\n",
            "0.8020243902439025\n",
            "Iteration:  300\n",
            "[1 0 5 ... 1 5 4] [1 0 3 ... 1 5 4]\n",
            "0.8058536585365854\n",
            "Iteration:  310\n",
            "[1 0 5 ... 1 5 4] [1 0 3 ... 1 5 4]\n",
            "0.8089756097560976\n",
            "Iteration:  320\n",
            "[1 0 5 ... 1 5 4] [1 0 3 ... 1 5 4]\n",
            "0.8123414634146342\n",
            "Iteration:  330\n",
            "[1 0 5 ... 1 5 4] [1 0 3 ... 1 5 4]\n",
            "0.8155365853658536\n",
            "Iteration:  340\n",
            "[1 0 5 ... 1 5 4] [1 0 3 ... 1 5 4]\n",
            "0.8188292682926829\n",
            "Iteration:  350\n",
            "[1 0 5 ... 1 5 4] [1 0 3 ... 1 5 4]\n",
            "0.8222926829268292\n",
            "Iteration:  360\n",
            "[1 0 5 ... 1 5 4] [1 0 3 ... 1 5 4]\n",
            "0.8248292682926829\n",
            "Iteration:  370\n",
            "[1 0 5 ... 1 5 4] [1 0 3 ... 1 5 4]\n",
            "0.8274878048780487\n",
            "Iteration:  380\n",
            "[1 0 5 ... 1 5 4] [1 0 3 ... 1 5 4]\n",
            "0.8294390243902439\n",
            "Iteration:  390\n",
            "[1 0 5 ... 1 5 4] [1 0 3 ... 1 5 4]\n",
            "0.8317073170731707\n",
            "Iteration:  400\n",
            "[1 0 5 ... 1 5 4] [1 0 3 ... 1 5 4]\n",
            "0.8335853658536585\n",
            "Iteration:  410\n",
            "[1 0 5 ... 1 5 4] [1 0 3 ... 1 5 4]\n",
            "0.8358048780487805\n",
            "Iteration:  420\n",
            "[1 0 5 ... 1 5 4] [1 0 3 ... 1 5 4]\n",
            "0.8374146341463414\n",
            "Iteration:  430\n",
            "[1 0 5 ... 1 5 4] [1 0 3 ... 1 5 4]\n",
            "0.8393414634146341\n",
            "Iteration:  440\n",
            "[1 0 5 ... 1 5 4] [1 0 3 ... 1 5 4]\n",
            "0.8408536585365853\n",
            "Iteration:  450\n",
            "[1 0 5 ... 1 5 4] [1 0 3 ... 1 5 4]\n",
            "0.8427317073170731\n",
            "Iteration:  460\n",
            "[1 0 5 ... 1 5 4] [1 0 3 ... 1 5 4]\n",
            "0.8442195121951219\n",
            "Iteration:  470\n",
            "[1 0 5 ... 1 5 4] [1 0 3 ... 1 5 4]\n",
            "0.8457317073170731\n",
            "Iteration:  480\n",
            "[1 0 5 ... 1 5 4] [1 0 3 ... 1 5 4]\n",
            "0.8469268292682927\n",
            "Iteration:  490\n",
            "[1 0 5 ... 1 5 4] [1 0 3 ... 1 5 4]\n",
            "0.8483414634146341\n"
          ]
        }
      ]
    },
    {
      "cell_type": "code",
      "source": [
        "def make_predictions(X,W1,b1,W2,b2):\n",
        "  _,_,_,A2 = forward_prop(W1,b1,W2,b2,X)\n",
        "  predictions = get_predictions(A2)\n",
        "  return predictions\n",
        "\n",
        "def test_prediction(index,W1,b1,W2,b2):\n",
        "  current_image = X_train[:,index,None]\n",
        "  prediction = make_predictions(X_train[:, index, None],W1,b1,W2,b2)\n",
        "  label = Y_train[index]\n",
        "  print(\"Prediction: \", prediction)\n",
        "  print(\"Label: \", label)\n",
        "  current_image = current_image.reshape((28, 28)) * 255\n",
        "  plt.gray()\n",
        "  plt.imshow(current_image, interpolation='nearest')\n",
        "  plt.show()"
      ],
      "metadata": {
        "id": "FtE7rneXfFk0"
      },
      "execution_count": 39,
      "outputs": []
    },
    {
      "cell_type": "code",
      "source": [
        "test_prediction(0,W1,b1,W2,b2)\n",
        "test_prediction(3,W1,b1,W2,b2)\n",
        "test_prediction(5,W1,b1,W2,b2)\n",
        "test_prediction(6,W1,b1,W2,b2)\n",
        "test_prediction(22,W1,b1,W2,b2)"
      ],
      "metadata": {
        "colab": {
          "base_uri": "https://localhost:8080/",
          "height": 1000
        },
        "id": "vFI9aJ7pf_xm",
        "outputId": "8c933800-e5c1-4124-a502-e8db695c9d51"
      },
      "execution_count": 41,
      "outputs": [
        {
          "output_type": "stream",
          "name": "stdout",
          "text": [
            "Prediction:  [1]\n",
            "Label:  1\n"
          ]
        },
        {
          "output_type": "display_data",
          "data": {
            "text/plain": [
              "<Figure size 640x480 with 1 Axes>"
            ],
            "image/png": "[encoded data removed]"
          },
          "metadata": {}
        },
        {
          "output_type": "stream",
          "name": "stdout",
          "text": [
            "Prediction:  [6]\n",
            "Label:  6\n"
          ]
        },
        {
          "output_type": "display_data",
          "data": {
            "text/plain": [
              "<Figure size 640x480 with 1 Axes>"
            ],
            "image/png": "[encoded data removed]"
          },
          "metadata": {}
        },
        {
          "output_type": "stream",
          "name": "stdout",
          "text": [
            "Prediction:  [8]\n",
            "Label:  3\n"
          ]
        },
        {
          "output_type": "display_data",
          "data": {
            "text/plain": [
              "<Figure size 640x480 with 1 Axes>"
            ],
            "image/png": "[encoded data removed]"
          },
          "metadata": {}
        },
        {
          "output_type": "stream",
          "name": "stdout",
          "text": [
            "Prediction:  [3]\n",
            "Label:  3\n"
          ]
        },
        {
          "output_type": "display_data",
          "data": {
            "text/plain": [
              "<Figure size 640x480 with 1 Axes>"
            ],
            "image/png": "[encoded data removed]"
          },
          "metadata": {}
        },
        {
          "output_type": "stream",
          "name": "stdout",
          "text": [
            "Prediction:  [5]\n",
            "Label:  5\n"
          ]
        },
        {
          "output_type": "display_data",
          "data": {
            "text/plain": [
              "<Figure size 640x480 with 1 Axes>"
            ],
            "image/png": "[encoded data removed]"
          },
          "metadata": {}
        }
      ]
    },
    {
      "cell_type": "code",
      "source": [
        "test_prediction(33,W1,b1,W2,b2)"
      ],
      "metadata": {
        "colab": {
          "base_uri": "https://localhost:8080/",
          "height": 465
        },
        "id": "EvawHZROgbko",
        "outputId": "bef65888-9c0b-4a2c-ef1a-480aa7c24994"
      },
      "execution_count": 43,
      "outputs": [
        {
          "output_type": "stream",
          "name": "stdout",
          "text": [
            "Prediction:  [3]\n",
            "Label:  3\n"
          ]
        },
        {
          "output_type": "display_data",
          "data": {
            "text/plain": [
              "<Figure size 640x480 with 1 Axes>"
            ],
            "image/png": "[encoded data removed]"
          },
          "metadata": {}
        }
      ]
    },
    {
      "cell_type": "code",
      "source": [
        "test_prediction(12,W1,b1,W2,b2)"
      ],
      "metadata": {
        "colab": {
          "base_uri": "https://localhost:8080/",
          "height": 465
        },
        "id": "wjgoCDq1gf4d",
        "outputId": "2235feb0-96e2-4862-ee02-57f7dbdda3dd"
      },
      "execution_count": 44,
      "outputs": [
        {
          "output_type": "stream",
          "name": "stdout",
          "text": [
            "Prediction:  [3]\n",
            "Label:  5\n"
          ]
        },
        {
          "output_type": "display_data",
          "data": {
            "text/plain": [
              "<Figure size 640x480 with 1 Axes>"
            ],
            "image/png": "[encoded data removed]"
          },
          "metadata": {}
        }
      ]
    },
    {
      "cell_type": "code",
      "source": [
        "test_prediction(34,W1,b1,W2,b2)"
      ],
      "metadata": {
        "colab": {
          "base_uri": "https://localhost:8080/",
          "height": 465
        },
        "id": "PgwPWLrSghBi",
        "outputId": "20d9fa66-1d3d-44f9-b867-228924bb536f"
      },
      "execution_count": 45,
      "outputs": [
        {
          "output_type": "stream",
          "name": "stdout",
          "text": [
            "Prediction:  [3]\n",
            "Label:  3\n"
          ]
        },
        {
          "output_type": "display_data",
          "data": {
            "text/plain": [
              "<Figure size 640x480 with 1 Axes>"
            ],
            "image/png": "[encoded data removed]"
          },
          "metadata": {}
        }
      ]
    },
    {
      "cell_type": "code",
      "source": [],
      "metadata": {
        "id": "ZsHn6r_dgjiK"
      },
      "execution_count": null,
      "outputs": []
    }
  ]
}